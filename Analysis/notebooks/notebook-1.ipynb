{
 "cells": [
  {
   "cell_type": "code",
   "execution_count": 1,
   "id": "f2cbe8f2",
   "metadata": {},
   "outputs": [],
   "source": [
    "import numpy as np\n",
    "import matplotlib.pyplot as plt\n",
    "import pandas as pd\n",
    "\n",
    "from Analysis.models.PDGParticle import PDGParticle_dict\n",
    "from Analysis.utils import G4Tools, XTools\n",
    "import Analysis.config.config as cfg"
   ]
  },
  {
   "cell_type": "code",
   "execution_count": 2,
   "id": "3b192067",
   "metadata": {},
   "outputs": [
    {
     "name": "stdout",
     "output_type": "stream",
     "text": [
      "Current activity: 1.03e+07 Bq, that is 27.81% of the initial activity.\n"
     ]
    }
   ],
   "source": [
    "data_path = \"/home/hargy/Scientific/Projects/Colour-Centres/Phoenix/G4Sims/G4P-CoCsCube/loc_data/gamma_irrad/run_0_nt_Hits.csv\"\n",
    "\n",
    "source_initial_activity = 37000000  # Bq\n",
    "source_half_life_days   = 1923.9      # days\n",
    "production_date         = (2016, 1, 26)    # year, month, day\n",
    "measurement_date        = (2025, 10, 17)    # year, month, day\n",
    "\n",
    "days_elapsed     = XTools.days_elapsed(production_date, measurement_date)\n",
    "current_activity = XTools.get_activity(source_initial_activity, source_half_life_days, days_elapsed)\n",
    "\n",
    "simulated_events = 1e6\n",
    "simulated_time   = 0.17 #hrs\n",
    "\n",
    "print(f\"Current activity: {current_activity:.2e} Bq, that is {current_activity/source_initial_activity*100:.2f}% of the initial activity.\")"
   ]
  },
  {
   "cell_type": "code",
   "execution_count": 4,
   "id": "3d9cae0d",
   "metadata": {},
   "outputs": [
    {
     "name": "stdout",
     "output_type": "stream",
     "text": [
      "Total energy deposited in sim: 7.56e+02 MeV\n",
      "Energy deposited per hour at current activity: 2.80e+07 MeV\n",
      "Total deposited energy for 0.17hrs: 4.76e+06\n"
     ]
    }
   ],
   "source": [
    "column_names = [\"fEvent\", \"fEntry\", \"fPreProc\", \"fPostProc\", \"fTrackID\", \"fParentID\", \"fPDG\", \"fKinetic\", \"fEdep\", \"fX1\", \"fY1\", \"fZ1\", \"fX2\", \"fY2\", \"fZ2\"]\n",
    "df = G4Tools.gen_run_dataframe(data_path, column_names=column_names)\n",
    "edep = np.sum(np.array(df[df[\"fEdep\"]>0][\"fEdep\"]))\n",
    "edep_per_hour = edep / simulated_events * current_activity * 3600\n",
    "print(f\"Total energy deposited in sim: {edep:.2e} MeV\")\n",
    "print(f\"Energy deposited per hour at current activity: {edep_per_hour:.2e} MeV\")\n",
    "print(f\"Total deposited energy for {simulated_time}hrs: {edep_per_hour*simulated_time:.2e}\")"
   ]
  },
  {
   "cell_type": "code",
   "execution_count": 8,
   "id": "38c103b7",
   "metadata": {},
   "outputs": [
    {
     "ename": "NameError",
     "evalue": "name '__file__' is not defined",
     "output_type": "error",
     "traceback": [
      "\u001b[31m---------------------------------------------------------------------------\u001b[39m",
      "\u001b[31mNameError\u001b[39m                                 Traceback (most recent call last)",
      "\u001b[36mCell\u001b[39m\u001b[36m \u001b[39m\u001b[32mIn[8]\u001b[39m\u001b[32m, line 6\u001b[39m\n\u001b[32m      3\u001b[39m \u001b[38;5;28;01mdef\u001b[39;00m\u001b[38;5;250m \u001b[39m\u001b[34mget_project_root\u001b[39m() -> Path:\n\u001b[32m      4\u001b[39m     \u001b[38;5;28;01mreturn\u001b[39;00m Path(\u001b[34m__file__\u001b[39m).resolve().parent.parent  \u001b[38;5;66;03m# adjust levels up\u001b[39;00m\n\u001b[32m----> \u001b[39m\u001b[32m6\u001b[39m \u001b[38;5;28mprint\u001b[39m(\u001b[33mf\u001b[39m\u001b[33m\"\u001b[39m\u001b[33mProject root directory: \u001b[39m\u001b[38;5;132;01m{\u001b[39;00m\u001b[43mget_project_root\u001b[49m\u001b[43m(\u001b[49m\u001b[43m)\u001b[49m\u001b[38;5;132;01m}\u001b[39;00m\u001b[33m\"\u001b[39m)\n",
      "\u001b[36mCell\u001b[39m\u001b[36m \u001b[39m\u001b[32mIn[8]\u001b[39m\u001b[32m, line 4\u001b[39m, in \u001b[36mget_project_root\u001b[39m\u001b[34m()\u001b[39m\n\u001b[32m      3\u001b[39m \u001b[38;5;28;01mdef\u001b[39;00m\u001b[38;5;250m \u001b[39m\u001b[34mget_project_root\u001b[39m() -> Path:\n\u001b[32m----> \u001b[39m\u001b[32m4\u001b[39m     \u001b[38;5;28;01mreturn\u001b[39;00m Path(\u001b[34;43m__file__\u001b[39;49m).resolve().parent.parent\n",
      "\u001b[31mNameError\u001b[39m: name '__file__' is not defined"
     ]
    }
   ],
   "source": [
    "from pathlib import Path\n",
    "\n",
    "def get_project_root() -> Path:\n",
    "    return Path(__file__).resolve().parent.parent  # adjust levels up\n",
    "\n",
    "print(f\"Project root directory: {get_project_root()}\")\n"
   ]
  },
  {
   "cell_type": "code",
   "execution_count": 3,
   "id": "2c5fb6f8",
   "metadata": {},
   "outputs": [
    {
     "data": {
      "text/plain": [
       "(2016, 1, 26)"
      ]
     },
     "execution_count": 3,
     "metadata": {},
     "output_type": "execute_result"
    }
   ],
   "source": [
    "cfg.PROJECT_ROOT\n",
    "cfg.CO_60_PRODUCTION_DATE"
   ]
  },
  {
   "cell_type": "code",
   "execution_count": null,
   "id": "311f489c",
   "metadata": {},
   "outputs": [],
   "source": []
  }
 ],
 "metadata": {
  "kernelspec": {
   "display_name": ".venv",
   "language": "python",
   "name": "python3"
  },
  "language_info": {
   "codemirror_mode": {
    "name": "ipython",
    "version": 3
   },
   "file_extension": ".py",
   "mimetype": "text/x-python",
   "name": "python",
   "nbconvert_exporter": "python",
   "pygments_lexer": "ipython3",
   "version": "3.13.7"
  }
 },
 "nbformat": 4,
 "nbformat_minor": 5
}
